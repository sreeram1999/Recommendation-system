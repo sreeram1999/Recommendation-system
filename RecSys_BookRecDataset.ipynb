{
 "cells": [
  {
   "cell_type": "code",
   "execution_count": 1,
   "metadata": {},
   "outputs": [],
   "source": [
    "import pandas as pd\n",
    "import pandas as pd\n",
    "import numpy as np\n",
    "from scipy.sparse import csr_matrix\n",
    "from sklearn.neighbors import NearestNeighbors\n",
    "import sklearn"
   ]
  },
  {
   "cell_type": "markdown",
   "metadata": {},
   "source": [
    "### Note:\n",
    "- csr_matrix(): Compressed Sparse Row matrix\n",
    "    - read more at https://docs.scipy.org/doc/scipy/reference/generated/scipy.sparse.csr_matrix.html\n",
    "    and\n",
    "    https://machinelearningmastery.com/sparse-matrices-for-machine-learning/\n"
   ]
  },
  {
   "cell_type": "code",
   "execution_count": 2,
   "metadata": {},
   "outputs": [],
   "source": [
    "book_data=pd.read_csv('book_recom.csv')"
   ]
  },
  {
   "cell_type": "code",
   "execution_count": 3,
   "metadata": {},
   "outputs": [
    {
     "data": {
      "text/html": [
       "<div>\n",
       "<style scoped>\n",
       "    .dataframe tbody tr th:only-of-type {\n",
       "        vertical-align: middle;\n",
       "    }\n",
       "\n",
       "    .dataframe tbody tr th {\n",
       "        vertical-align: top;\n",
       "    }\n",
       "\n",
       "    .dataframe thead th {\n",
       "        text-align: right;\n",
       "    }\n",
       "</style>\n",
       "<table border=\"1\" class=\"dataframe\">\n",
       "  <thead>\n",
       "    <tr style=\"text-align: right;\">\n",
       "      <th></th>\n",
       "      <th>userID</th>\n",
       "      <th>ISBN</th>\n",
       "      <th>bookRating</th>\n",
       "      <th>bookTitle</th>\n",
       "      <th>totalRatingCount</th>\n",
       "      <th>Location</th>\n",
       "    </tr>\n",
       "  </thead>\n",
       "  <tbody>\n",
       "    <tr>\n",
       "      <th>0</th>\n",
       "      <td>276725</td>\n",
       "      <td>034545104X</td>\n",
       "      <td>0</td>\n",
       "      <td>Flesh Tones: A Novel</td>\n",
       "      <td>60</td>\n",
       "      <td>tyler, texas, usa</td>\n",
       "    </tr>\n",
       "    <tr>\n",
       "      <th>1</th>\n",
       "      <td>2313</td>\n",
       "      <td>034545104X</td>\n",
       "      <td>5</td>\n",
       "      <td>Flesh Tones: A Novel</td>\n",
       "      <td>60</td>\n",
       "      <td>cincinnati, ohio, usa</td>\n",
       "    </tr>\n",
       "    <tr>\n",
       "      <th>2</th>\n",
       "      <td>6543</td>\n",
       "      <td>034545104X</td>\n",
       "      <td>0</td>\n",
       "      <td>Flesh Tones: A Novel</td>\n",
       "      <td>60</td>\n",
       "      <td>strafford, missouri, usa</td>\n",
       "    </tr>\n",
       "    <tr>\n",
       "      <th>3</th>\n",
       "      <td>8680</td>\n",
       "      <td>034545104X</td>\n",
       "      <td>5</td>\n",
       "      <td>Flesh Tones: A Novel</td>\n",
       "      <td>60</td>\n",
       "      <td>st. charles county, missouri, usa</td>\n",
       "    </tr>\n",
       "    <tr>\n",
       "      <th>4</th>\n",
       "      <td>10314</td>\n",
       "      <td>034545104X</td>\n",
       "      <td>9</td>\n",
       "      <td>Flesh Tones: A Novel</td>\n",
       "      <td>60</td>\n",
       "      <td>beaverton, oregon, usa</td>\n",
       "    </tr>\n",
       "  </tbody>\n",
       "</table>\n",
       "</div>"
      ],
      "text/plain": [
       "   userID        ISBN  bookRating             bookTitle  totalRatingCount  \\\n",
       "0  276725  034545104X           0  Flesh Tones: A Novel                60   \n",
       "1    2313  034545104X           5  Flesh Tones: A Novel                60   \n",
       "2    6543  034545104X           0  Flesh Tones: A Novel                60   \n",
       "3    8680  034545104X           5  Flesh Tones: A Novel                60   \n",
       "4   10314  034545104X           9  Flesh Tones: A Novel                60   \n",
       "\n",
       "                            Location  \n",
       "0                  tyler, texas, usa  \n",
       "1              cincinnati, ohio, usa  \n",
       "2           strafford, missouri, usa  \n",
       "3  st. charles county, missouri, usa  \n",
       "4             beaverton, oregon, usa  "
      ]
     },
     "execution_count": 3,
     "metadata": {},
     "output_type": "execute_result"
    }
   ],
   "source": [
    "book_data.head()"
   ]
  },
  {
   "cell_type": "code",
   "execution_count": 4,
   "metadata": {},
   "outputs": [],
   "source": [
    "data_pivot =(book_data.pivot(index = 'bookTitle', columns = 'userID',\n",
    "              values = 'bookRating').fillna(0))"
   ]
  },
  {
   "cell_type": "code",
   "execution_count": 5,
   "metadata": {},
   "outputs": [
    {
     "data": {
      "text/plain": [
       "(198, 11337)"
      ]
     },
     "execution_count": 5,
     "metadata": {},
     "output_type": "execute_result"
    }
   ],
   "source": [
    "data_pivot.shape"
   ]
  },
  {
   "cell_type": "code",
   "execution_count": 6,
   "metadata": {},
   "outputs": [
    {
     "data": {
      "text/html": [
       "<div>\n",
       "<style scoped>\n",
       "    .dataframe tbody tr th:only-of-type {\n",
       "        vertical-align: middle;\n",
       "    }\n",
       "\n",
       "    .dataframe tbody tr th {\n",
       "        vertical-align: top;\n",
       "    }\n",
       "\n",
       "    .dataframe thead th {\n",
       "        text-align: right;\n",
       "    }\n",
       "</style>\n",
       "<table border=\"1\" class=\"dataframe\">\n",
       "  <thead>\n",
       "    <tr style=\"text-align: right;\">\n",
       "      <th>userID</th>\n",
       "      <th>14</th>\n",
       "      <th>23</th>\n",
       "      <th>26</th>\n",
       "      <th>51</th>\n",
       "      <th>67</th>\n",
       "      <th>99</th>\n",
       "      <th>135</th>\n",
       "      <th>243</th>\n",
       "      <th>254</th>\n",
       "      <th>256</th>\n",
       "      <th>...</th>\n",
       "      <th>278483</th>\n",
       "      <th>278514</th>\n",
       "      <th>278535</th>\n",
       "      <th>278552</th>\n",
       "      <th>278582</th>\n",
       "      <th>278633</th>\n",
       "      <th>278740</th>\n",
       "      <th>278769</th>\n",
       "      <th>278773</th>\n",
       "      <th>278843</th>\n",
       "    </tr>\n",
       "    <tr>\n",
       "      <th>bookTitle</th>\n",
       "      <th></th>\n",
       "      <th></th>\n",
       "      <th></th>\n",
       "      <th></th>\n",
       "      <th></th>\n",
       "      <th></th>\n",
       "      <th></th>\n",
       "      <th></th>\n",
       "      <th></th>\n",
       "      <th></th>\n",
       "      <th></th>\n",
       "      <th></th>\n",
       "      <th></th>\n",
       "      <th></th>\n",
       "      <th></th>\n",
       "      <th></th>\n",
       "      <th></th>\n",
       "      <th></th>\n",
       "      <th></th>\n",
       "      <th></th>\n",
       "      <th></th>\n",
       "    </tr>\n",
       "  </thead>\n",
       "  <tbody>\n",
       "    <tr>\n",
       "      <th>1st to Die: A Novel</th>\n",
       "      <td>0.0</td>\n",
       "      <td>0.0</td>\n",
       "      <td>0.0</td>\n",
       "      <td>0.0</td>\n",
       "      <td>0.0</td>\n",
       "      <td>0.0</td>\n",
       "      <td>0.0</td>\n",
       "      <td>0.0</td>\n",
       "      <td>0.0</td>\n",
       "      <td>0.0</td>\n",
       "      <td>...</td>\n",
       "      <td>0.0</td>\n",
       "      <td>0.0</td>\n",
       "      <td>10.0</td>\n",
       "      <td>0.0</td>\n",
       "      <td>0.0</td>\n",
       "      <td>0.0</td>\n",
       "      <td>0.0</td>\n",
       "      <td>0.0</td>\n",
       "      <td>0.0</td>\n",
       "      <td>0.0</td>\n",
       "    </tr>\n",
       "    <tr>\n",
       "      <th>A Child Called \\It\\\": One Child's Courage to Survive\"</th>\n",
       "      <td>0.0</td>\n",
       "      <td>0.0</td>\n",
       "      <td>0.0</td>\n",
       "      <td>0.0</td>\n",
       "      <td>0.0</td>\n",
       "      <td>0.0</td>\n",
       "      <td>0.0</td>\n",
       "      <td>0.0</td>\n",
       "      <td>0.0</td>\n",
       "      <td>0.0</td>\n",
       "      <td>...</td>\n",
       "      <td>0.0</td>\n",
       "      <td>0.0</td>\n",
       "      <td>0.0</td>\n",
       "      <td>0.0</td>\n",
       "      <td>0.0</td>\n",
       "      <td>0.0</td>\n",
       "      <td>0.0</td>\n",
       "      <td>0.0</td>\n",
       "      <td>0.0</td>\n",
       "      <td>0.0</td>\n",
       "    </tr>\n",
       "    <tr>\n",
       "      <th>A Cold Heart: An Alex Delaware Novel</th>\n",
       "      <td>0.0</td>\n",
       "      <td>0.0</td>\n",
       "      <td>0.0</td>\n",
       "      <td>0.0</td>\n",
       "      <td>0.0</td>\n",
       "      <td>0.0</td>\n",
       "      <td>0.0</td>\n",
       "      <td>0.0</td>\n",
       "      <td>0.0</td>\n",
       "      <td>0.0</td>\n",
       "      <td>...</td>\n",
       "      <td>0.0</td>\n",
       "      <td>0.0</td>\n",
       "      <td>0.0</td>\n",
       "      <td>0.0</td>\n",
       "      <td>0.0</td>\n",
       "      <td>0.0</td>\n",
       "      <td>0.0</td>\n",
       "      <td>0.0</td>\n",
       "      <td>0.0</td>\n",
       "      <td>0.0</td>\n",
       "    </tr>\n",
       "    <tr>\n",
       "      <th>A Kiss of Shadows (Meredith Gentry Novels (Paperback))</th>\n",
       "      <td>0.0</td>\n",
       "      <td>0.0</td>\n",
       "      <td>0.0</td>\n",
       "      <td>0.0</td>\n",
       "      <td>0.0</td>\n",
       "      <td>0.0</td>\n",
       "      <td>0.0</td>\n",
       "      <td>0.0</td>\n",
       "      <td>0.0</td>\n",
       "      <td>0.0</td>\n",
       "      <td>...</td>\n",
       "      <td>0.0</td>\n",
       "      <td>0.0</td>\n",
       "      <td>0.0</td>\n",
       "      <td>0.0</td>\n",
       "      <td>0.0</td>\n",
       "      <td>0.0</td>\n",
       "      <td>0.0</td>\n",
       "      <td>0.0</td>\n",
       "      <td>0.0</td>\n",
       "      <td>0.0</td>\n",
       "    </tr>\n",
       "    <tr>\n",
       "      <th>A Man in Full</th>\n",
       "      <td>0.0</td>\n",
       "      <td>0.0</td>\n",
       "      <td>0.0</td>\n",
       "      <td>0.0</td>\n",
       "      <td>0.0</td>\n",
       "      <td>0.0</td>\n",
       "      <td>0.0</td>\n",
       "      <td>0.0</td>\n",
       "      <td>0.0</td>\n",
       "      <td>0.0</td>\n",
       "      <td>...</td>\n",
       "      <td>0.0</td>\n",
       "      <td>0.0</td>\n",
       "      <td>0.0</td>\n",
       "      <td>0.0</td>\n",
       "      <td>0.0</td>\n",
       "      <td>0.0</td>\n",
       "      <td>0.0</td>\n",
       "      <td>0.0</td>\n",
       "      <td>0.0</td>\n",
       "      <td>0.0</td>\n",
       "    </tr>\n",
       "  </tbody>\n",
       "</table>\n",
       "<p>5 rows × 11337 columns</p>\n",
       "</div>"
      ],
      "text/plain": [
       "userID                                              14      23      26      \\\n",
       "bookTitle                                                                    \n",
       "1st to Die: A Novel                                    0.0     0.0     0.0   \n",
       "A Child Called \\It\\\": One Child's Courage to Su...     0.0     0.0     0.0   \n",
       "A Cold Heart: An Alex Delaware Novel                   0.0     0.0     0.0   \n",
       "A Kiss of Shadows (Meredith Gentry Novels (Pape...     0.0     0.0     0.0   \n",
       "A Man in Full                                          0.0     0.0     0.0   \n",
       "\n",
       "userID                                              51      67      99      \\\n",
       "bookTitle                                                                    \n",
       "1st to Die: A Novel                                    0.0     0.0     0.0   \n",
       "A Child Called \\It\\\": One Child's Courage to Su...     0.0     0.0     0.0   \n",
       "A Cold Heart: An Alex Delaware Novel                   0.0     0.0     0.0   \n",
       "A Kiss of Shadows (Meredith Gentry Novels (Pape...     0.0     0.0     0.0   \n",
       "A Man in Full                                          0.0     0.0     0.0   \n",
       "\n",
       "userID                                              135     243     254     \\\n",
       "bookTitle                                                                    \n",
       "1st to Die: A Novel                                    0.0     0.0     0.0   \n",
       "A Child Called \\It\\\": One Child's Courage to Su...     0.0     0.0     0.0   \n",
       "A Cold Heart: An Alex Delaware Novel                   0.0     0.0     0.0   \n",
       "A Kiss of Shadows (Meredith Gentry Novels (Pape...     0.0     0.0     0.0   \n",
       "A Man in Full                                          0.0     0.0     0.0   \n",
       "\n",
       "userID                                              256     ...  278483  \\\n",
       "bookTitle                                                   ...           \n",
       "1st to Die: A Novel                                    0.0  ...     0.0   \n",
       "A Child Called \\It\\\": One Child's Courage to Su...     0.0  ...     0.0   \n",
       "A Cold Heart: An Alex Delaware Novel                   0.0  ...     0.0   \n",
       "A Kiss of Shadows (Meredith Gentry Novels (Pape...     0.0  ...     0.0   \n",
       "A Man in Full                                          0.0  ...     0.0   \n",
       "\n",
       "userID                                              278514  278535  278552  \\\n",
       "bookTitle                                                                    \n",
       "1st to Die: A Novel                                    0.0    10.0     0.0   \n",
       "A Child Called \\It\\\": One Child's Courage to Su...     0.0     0.0     0.0   \n",
       "A Cold Heart: An Alex Delaware Novel                   0.0     0.0     0.0   \n",
       "A Kiss of Shadows (Meredith Gentry Novels (Pape...     0.0     0.0     0.0   \n",
       "A Man in Full                                          0.0     0.0     0.0   \n",
       "\n",
       "userID                                              278582  278633  278740  \\\n",
       "bookTitle                                                                    \n",
       "1st to Die: A Novel                                    0.0     0.0     0.0   \n",
       "A Child Called \\It\\\": One Child's Courage to Su...     0.0     0.0     0.0   \n",
       "A Cold Heart: An Alex Delaware Novel                   0.0     0.0     0.0   \n",
       "A Kiss of Shadows (Meredith Gentry Novels (Pape...     0.0     0.0     0.0   \n",
       "A Man in Full                                          0.0     0.0     0.0   \n",
       "\n",
       "userID                                              278769  278773  278843  \n",
       "bookTitle                                                                   \n",
       "1st to Die: A Novel                                    0.0     0.0     0.0  \n",
       "A Child Called \\It\\\": One Child's Courage to Su...     0.0     0.0     0.0  \n",
       "A Cold Heart: An Alex Delaware Novel                   0.0     0.0     0.0  \n",
       "A Kiss of Shadows (Meredith Gentry Novels (Pape...     0.0     0.0     0.0  \n",
       "A Man in Full                                          0.0     0.0     0.0  \n",
       "\n",
       "[5 rows x 11337 columns]"
      ]
     },
     "execution_count": 6,
     "metadata": {},
     "output_type": "execute_result"
    }
   ],
   "source": [
    "data_pivot.head(5)"
   ]
  },
  {
   "cell_type": "code",
   "execution_count": 7,
   "metadata": {},
   "outputs": [
    {
     "data": {
      "text/plain": [
       "<198x11337 sparse matrix of type '<class 'numpy.float64'>'\n",
       "\twith 11110 stored elements in Compressed Sparse Row format>"
      ]
     },
     "execution_count": 7,
     "metadata": {},
     "output_type": "execute_result"
    }
   ],
   "source": [
    "book_data_matrix = csr_matrix(data_pivot.values)\n",
    "book_data_matrix"
   ]
  },
  {
   "cell_type": "code",
   "execution_count": 8,
   "metadata": {},
   "outputs": [
    {
     "data": {
      "text/plain": [
       "NearestNeighbors(algorithm='brute', leaf_size=30, metric='cosine',\n",
       "                 metric_params=None, n_jobs=None, n_neighbors=5, p=2,\n",
       "                 radius=1.0)"
      ]
     },
     "execution_count": 8,
     "metadata": {},
     "output_type": "execute_result"
    }
   ],
   "source": [
    "model_knn = NearestNeighbors(metric = 'cosine', algorithm = 'brute')\n",
    "model_knn.fit(book_data_matrix)"
   ]
  },
  {
   "cell_type": "markdown",
   "metadata": {},
   "source": [
    "### Recommendation for reading:\n",
    "- Find the 5 similar (with maximum similarity - means lowest distance) \n",
    "books as that of the first book '1st to Die: A novel'.\n",
    "- The function kneighbors() is used to find k number of neighbors of a point.\n",
    "- We need to compute 6 neighbors from book1 to all other books.\n",
    "Note that the shortest distance possible now is 0, which is book1 to book1 itself. Hence, we need to take 6 neighbors, instead of 5.\n"
   ]
  },
  {
   "cell_type": "code",
   "execution_count": 9,
   "metadata": {},
   "outputs": [],
   "source": [
    "query_index1=0   # 1st book\n",
    "distances, indices = model_knn.kneighbors(\n",
    "    data_pivot.iloc[query_index1, :].values.reshape(1,-1), \n",
    "    n_neighbors = 6)\n"
   ]
  },
  {
   "cell_type": "code",
   "execution_count": 10,
   "metadata": {},
   "outputs": [
    {
     "data": {
      "text/plain": [
       "array([[0.        , 0.85554748, 0.89964868, 0.90149976, 0.90925394,\n",
       "        0.92285717]])"
      ]
     },
     "execution_count": 10,
     "metadata": {},
     "output_type": "execute_result"
    }
   ],
   "source": [
    "#display the distances\n",
    "distances"
   ]
  },
  {
   "cell_type": "code",
   "execution_count": 11,
   "metadata": {},
   "outputs": [
    {
     "data": {
      "text/plain": [
       "array([[  0, 110,  12, 188,  26,  78]], dtype=int64)"
      ]
     },
     "execution_count": 11,
     "metadata": {},
     "output_type": "execute_result"
    }
   ],
   "source": [
    "#display respective book indices\n",
    "indices"
   ]
  },
  {
   "cell_type": "code",
   "execution_count": 12,
   "metadata": {},
   "outputs": [
    {
     "name": "stdout",
     "output_type": "stream",
     "text": [
      "Recommendations for 1st to Die: A Novel\n",
      "\n",
      "Roses Are Red (Alex Cross Novels)\n",
      "Along Came a Spider (Alex Cross Novels)\n",
      "Violets Are Blue\n",
      "Cat &amp; Mouse (Alex Cross Novels)\n",
      "Jack &amp; Jill (Alex Cross Novels)\n"
     ]
    }
   ],
   "source": [
    "print('Recommendations for {0}\\n'.format(data_pivot.index[query_index1]))\n",
    "for i in indices.flatten()[1:]:\n",
    "    print(data_pivot.index[i])"
   ]
  },
  {
   "cell_type": "code",
   "execution_count": 13,
   "metadata": {},
   "outputs": [
    {
     "name": "stdout",
     "output_type": "stream",
     "text": [
      "Recommendations for 1st to Die: A Novel\n",
      "\n",
      "1: Roses Are Red (Alex Cross Novels), with distance of 0.8555474766709164\n",
      "2: Along Came a Spider (Alex Cross Novels), with distance of 0.8996486778230974\n",
      "3: Violets Are Blue, with distance of 0.9014997612208198\n",
      "4: Cat &amp; Mouse (Alex Cross Novels), with distance of 0.909253938096594\n",
      "5: Jack &amp; Jill (Alex Cross Novels), with distance of 0.9228571674498819\n"
     ]
    }
   ],
   "source": [
    "# as distances is a 2D array, we need to flatten it to make 1D array\n",
    "\n",
    "for i in range(0, len(distances.flatten())):\n",
    "    if i == 0:\n",
    "        print('Recommendations for {0}\\n'.format(data_pivot.\n",
    "              index[query_index1]))\n",
    "    else:\n",
    "        print('{0}: {1}, with distance of {2}'.\n",
    "              format(i, data_pivot.index[indices.flatten()[i]], \n",
    "                     distances.flatten()[i]))\n"
   ]
  },
  {
   "cell_type": "code",
   "execution_count": null,
   "metadata": {},
   "outputs": [],
   "source": []
  }
 ],
 "metadata": {
  "kernelspec": {
   "display_name": "Python 3",
   "language": "python",
   "name": "python3"
  },
  "language_info": {
   "codemirror_mode": {
    "name": "ipython",
    "version": 3
   },
   "file_extension": ".py",
   "mimetype": "text/x-python",
   "name": "python",
   "nbconvert_exporter": "python",
   "pygments_lexer": "ipython3",
   "version": "3.7.3"
  }
 },
 "nbformat": 4,
 "nbformat_minor": 2
}
